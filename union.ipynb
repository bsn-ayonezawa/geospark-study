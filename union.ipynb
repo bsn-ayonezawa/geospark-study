{
 "cells": [
  {
   "cell_type": "code",
   "execution_count": 1,
   "metadata": {},
   "outputs": [],
   "source": [
    "from shapely.geometry import Polygon"
   ]
  },
  {
   "cell_type": "code",
   "execution_count": 2,
   "metadata": {},
   "outputs": [],
   "source": [
    "square = Polygon(\n",
    "    [(-84.237756, 33.904859), (-84.237756, 34.090426),\n",
    "     (-83.833011, 34.090426), (-83.833011, 33.904859),\n",
    "     (-84.237756, 33.904859)\n",
    "    ])"
   ]
  },
  {
   "cell_type": "code",
   "execution_count": 3,
   "metadata": {},
   "outputs": [
    {
     "data": {
      "image/svg+xml": [
       "<svg xmlns=\"http://www.w3.org/2000/svg\" xmlns:xlink=\"http://www.w3.org/1999/xlink\" width=\"100.0\" height=\"100.0\" viewBox=\"-84.25394580000001 33.8886692 0.4371246000000184 0.21794659999999766\" preserveAspectRatio=\"xMinYMin meet\"><g transform=\"matrix(1,0,0,-1,0,67.995285)\"><path fill-rule=\"evenodd\" fill=\"#66cc99\" stroke=\"#555555\" stroke-width=\"0.008742492000000369\" opacity=\"0.6\" d=\"M -84.237756,33.904859 L -84.237756,34.090426 L -83.833011,34.090426 L -83.833011,33.904859 L -84.237756,33.904859 z\" /></g></svg>"
      ],
      "text/plain": [
       "<shapely.geometry.polygon.Polygon at 0x7f8cef46cb10>"
      ]
     },
     "execution_count": 3,
     "metadata": {},
     "output_type": "execute_result"
    }
   ],
   "source": [
    "square"
   ]
  },
  {
   "cell_type": "code",
   "execution_count": 4,
   "metadata": {},
   "outputs": [],
   "source": [
    "# 未使用\n",
    "octagon = Polygon(\n",
    "    [(-84.257756, 33.754859), (-84.297756, 33.904859), (-84.257756, 34.054859),\n",
    "     (-83.787756, 34.154859),\n",
    "     (-83.317756, 34.054859), (-83.287756, 33.904859), (-83.317756, 33.754859),\n",
    "     (-83.787756, 33.654859),\n",
    "    ])"
   ]
  },
  {
   "cell_type": "code",
   "execution_count": 5,
   "metadata": {},
   "outputs": [
    {
     "data": {
      "image/svg+xml": [
       "<svg xmlns=\"http://www.w3.org/2000/svg\" xmlns:xlink=\"http://www.w3.org/1999/xlink\" width=\"100.0\" height=\"100.0\" viewBox=\"-84.33815600000001 33.614459000000004 1.0908000000000158 0.5807999999999964\" preserveAspectRatio=\"xMinYMin meet\"><g transform=\"matrix(1,0,0,-1,0,67.809718)\"><path fill-rule=\"evenodd\" fill=\"#66cc99\" stroke=\"#555555\" stroke-width=\"0.021816000000000314\" opacity=\"0.6\" d=\"M -84.257756,33.754859 L -84.297756,33.904859 L -84.257756,34.054859 L -83.787756,34.154859 L -83.317756,34.054859 L -83.287756,33.904859 L -83.317756,33.754859 L -83.787756,33.654859 L -84.257756,33.754859 z\" /></g></svg>"
      ],
      "text/plain": [
       "<shapely.geometry.polygon.Polygon at 0x7f8cef481510>"
      ]
     },
     "execution_count": 5,
     "metadata": {},
     "output_type": "execute_result"
    }
   ],
   "source": [
    "octagon"
   ]
  },
  {
   "cell_type": "code",
   "execution_count": 6,
   "metadata": {},
   "outputs": [],
   "source": [
    "square_vertical = Polygon(\n",
    "    [(-84.237756, 33.904859), (-84.237756, 34.890426),\n",
    "     (-84.033011, 34.890426), (-84.033011, 33.904859)\n",
    "    ])"
   ]
  },
  {
   "cell_type": "code",
   "execution_count": 7,
   "metadata": {},
   "outputs": [
    {
     "data": {
      "image/svg+xml": [
       "<svg xmlns=\"http://www.w3.org/2000/svg\" xmlns:xlink=\"http://www.w3.org/1999/xlink\" width=\"100.0\" height=\"100.0\" viewBox=\"-84.27717868 33.86543632 0.28359036000000515 1.0644123599999986\" preserveAspectRatio=\"xMinYMin meet\"><g transform=\"matrix(1,0,0,-1,0,68.795285)\"><path fill-rule=\"evenodd\" fill=\"#66cc99\" stroke=\"#555555\" stroke-width=\"0.02128824719999997\" opacity=\"0.6\" d=\"M -84.237756,33.904859 L -84.237756,34.890426 L -84.033011,34.890426 L -84.033011,33.904859 L -84.237756,33.904859 z\" /></g></svg>"
      ],
      "text/plain": [
       "<shapely.geometry.polygon.Polygon at 0x7f8cef487090>"
      ]
     },
     "execution_count": 7,
     "metadata": {},
     "output_type": "execute_result"
    }
   ],
   "source": [
    "square_vertical"
   ]
  },
  {
   "cell_type": "code",
   "execution_count": 8,
   "metadata": {},
   "outputs": [],
   "source": [
    "# Spark初期化\n",
    "from pyspark.sql import SparkSession\n",
    "\n",
    "from geospark.register import upload_jars\n",
    "from geospark.utils import GeoSparkKryoRegistrator, KryoSerializer\n",
    "\n",
    "upload_jars()\n",
    "\n",
    "spark = SparkSession.\\\n",
    "    builder.\\\n",
    "    master(\"local[*]\").\\\n",
    "    appName(\"geospark-study\").\\\n",
    "    config(\"spark.serializer\", KryoSerializer.getName).\\\n",
    "    config(\"spark.kryo.registrator\", GeoSparkKryoRegistrator.getName) .\\\n",
    "    getOrCreate()"
   ]
  },
  {
   "cell_type": "code",
   "execution_count": 9,
   "metadata": {},
   "outputs": [
    {
     "data": {
      "text/plain": [
       "True"
      ]
     },
     "execution_count": 9,
     "metadata": {},
     "output_type": "execute_result"
    }
   ],
   "source": [
    "# GeoSpark初期化\n",
    "from geospark.register import GeoSparkRegistrator\n",
    "GeoSparkRegistrator.registerAll(spark)"
   ]
  },
  {
   "cell_type": "code",
   "execution_count": 10,
   "metadata": {},
   "outputs": [],
   "source": [
    "# Polygon⇒DataFrame化準備\n",
    "from pyspark.sql.types import StructType\n",
    "from pyspark.sql.types import StructField\n",
    "from pyspark.sql.types import StringType\n",
    "from pyspark.sql.types import IntegerType\n",
    "\n",
    "from geospark.sql.types import GeometryType\n",
    "\n",
    "schema = StructType([\n",
    "    StructField('join_key', IntegerType()), # join_keyは結合用\n",
    "    StructField('name', StringType()),\n",
    "    StructField('geometry', GeometryType())\n",
    "])"
   ]
  },
  {
   "cell_type": "code",
   "execution_count": 11,
   "metadata": {},
   "outputs": [],
   "source": [
    "# ST_Intersectionは二つデータフレームを使用し、SQLで処理を行う関数のようなので、\n",
    "# Polygonを1つもつデータフレームを複数用意する。\n",
    "dic1 = [{'join_key': 1, 'name': 'square', 'geometry': square}]\n",
    "df1 = spark.createDataFrame(dic1, schema)"
   ]
  },
  {
   "cell_type": "code",
   "execution_count": 12,
   "metadata": {},
   "outputs": [],
   "source": [
    "dic2 = [{'join_key': 1, 'name': 'octagon', 'geometry': octagon}]\n",
    "df2 = spark.createDataFrame(dic2, schema)"
   ]
  },
  {
   "cell_type": "code",
   "execution_count": 13,
   "metadata": {},
   "outputs": [],
   "source": [
    "dic3 = [{'join_key': 1, 'name': 'square_v', 'geometry': square_vertical}]\n",
    "df3 = spark.createDataFrame(dic3, schema)"
   ]
  },
  {
   "cell_type": "code",
   "execution_count": 14,
   "metadata": {},
   "outputs": [],
   "source": [
    "# sqlで使えるようにする\n",
    "df1.registerTempTable('square')\n",
    "df2.registerTempTable('octagon')\n",
    "df3.registerTempTable('square_v')"
   ]
  },
  {
   "cell_type": "code",
   "execution_count": 15,
   "metadata": {},
   "outputs": [],
   "source": [
    "intersectioned = spark.sql(\"\"\"\n",
    "    select\n",
    "        ST_Intersection(sq.geometry, sq_v.geometry)\n",
    "    FROM\n",
    "        square as sq\n",
    "        cross join square_v as sq_v\n",
    "            on sq.join_key = sq_v.join_key\n",
    "\"\"\")"
   ]
  },
  {
   "cell_type": "code",
   "execution_count": 16,
   "metadata": {
    "scrolled": true
   },
   "outputs": [
    {
     "name": "stdout",
     "output_type": "stream",
     "text": [
      "+-----------------------------------+\n",
      "|st_intersection(geometry, geometry)|\n",
      "+-----------------------------------+\n",
      "|               POLYGON ((-84.237...|\n",
      "+-----------------------------------+\n",
      "\n"
     ]
    }
   ],
   "source": [
    "intersectioned.show()"
   ]
  },
  {
   "cell_type": "code",
   "execution_count": 17,
   "metadata": {},
   "outputs": [],
   "source": [
    "# ファイル出力・表示のためGeoPandasに移す\n",
    "import geopandas as gpd\n",
    "intersectioned_gdf = gpd.GeoDataFrame(\n",
    "    intersectioned.collect(), columns=[\"geom\"], geometry=\"geom\"\n",
    ")"
   ]
  },
  {
   "cell_type": "code",
   "execution_count": 18,
   "metadata": {},
   "outputs": [],
   "source": [
    "intersectioned_gdf.to_file(r'out/intersectioned.shp')"
   ]
  },
  {
   "cell_type": "code",
   "execution_count": 19,
   "metadata": {},
   "outputs": [
    {
     "data": {
      "image/svg+xml": [
       "<svg xmlns=\"http://www.w3.org/2000/svg\" xmlns:xlink=\"http://www.w3.org/1999/xlink\" width=\"100.0\" height=\"100.0\" viewBox=\"-84.2459458 33.896669200000005 0.221124599999996 0.20194659999999232\" preserveAspectRatio=\"xMinYMin meet\"><g transform=\"matrix(1,0,0,-1,0,67.995285)\"><path fill-rule=\"evenodd\" fill=\"#66cc99\" stroke=\"#555555\" stroke-width=\"0.00442249199999992\" opacity=\"0.6\" d=\"M -84.237756,33.904859 L -84.237756,34.090426 L -84.033011,34.090426 L -84.033011,33.904859 L -84.237756,33.904859 z\" /></g></svg>"
      ],
      "text/plain": [
       "<shapely.geometry.polygon.Polygon at 0x7f8ced028b10>"
      ]
     },
     "execution_count": 19,
     "metadata": {},
     "output_type": "execute_result"
    }
   ],
   "source": [
    "intersectioned_gdf.at[0, 'geom']"
   ]
  },
  {
   "cell_type": "code",
   "execution_count": 20,
   "metadata": {},
   "outputs": [
    {
     "data": {
      "text/plain": [
       "[(-84.237756, 33.904859),\n",
       " (-84.237756, 34.090426),\n",
       " (-84.033011, 34.090426),\n",
       " (-84.033011, 33.904859),\n",
       " (-84.237756, 33.904859)]"
      ]
     },
     "execution_count": 20,
     "metadata": {},
     "output_type": "execute_result"
    }
   ],
   "source": [
    "coords = intersectioned_gdf.at[0, 'geom'].exterior.coords\n",
    "list(coords)"
   ]
  },
  {
   "cell_type": "markdown",
   "metadata": {},
   "source": []
  },
  {
   "cell_type": "markdown",
   "metadata": {},
   "source": []
  },
  {
   "cell_type": "markdown",
   "metadata": {},
   "source": [
    "### ST_Intersectionは2つのポリゴンが重なっている部分のみを返す関数だったため、別の関数（ST_Union_Aggr）を試す。"
   ]
  },
  {
   "cell_type": "code",
   "execution_count": 22,
   "metadata": {},
   "outputs": [
    {
     "name": "stdout",
     "output_type": "stream",
     "text": [
      "+--------+--------+--------------------+\n",
      "|join_key|    name|            geometry|\n",
      "+--------+--------+--------------------+\n",
      "|       1|  square|POLYGON ((-84.237...|\n",
      "|       1|square_v|POLYGON ((-84.237...|\n",
      "+--------+--------+--------------------+\n",
      "\n"
     ]
    }
   ],
   "source": [
    "# ST_Union_Aggrはデータフレームの列を指定し、\n",
    "# すべてのジオメトリを結合するメソッドのようなので1つのデータフレームに加工する。\n",
    "unioned_df13 = df1.union(df3)\n",
    "unioned_df13.show()"
   ]
  },
  {
   "cell_type": "code",
   "execution_count": 23,
   "metadata": {},
   "outputs": [],
   "source": [
    "unioned_df13.registerTempTable('squares')"
   ]
  },
  {
   "cell_type": "code",
   "execution_count": 24,
   "metadata": {},
   "outputs": [
    {
     "name": "stdout",
     "output_type": "stream",
     "text": [
      "+-----------------------+\n",
      "|st_union_aggr(geometry)|\n",
      "+-----------------------+\n",
      "|   POLYGON ((-84.237...|\n",
      "+-----------------------+\n",
      "\n"
     ]
    }
   ],
   "source": [
    "unioned = spark.sql(\"\"\"\n",
    "    select\n",
    "        ST_Union_Aggr(sq.geometry)\n",
    "    FROM\n",
    "        squares as sq\n",
    "\"\"\")\n",
    "unioned.show()"
   ]
  },
  {
   "cell_type": "code",
   "execution_count": 25,
   "metadata": {},
   "outputs": [],
   "source": [
    "# ファイル出力・表示のためGeoPandasに移す\n",
    "import geopandas as gpd\n",
    "unioned_gdf = gpd.GeoDataFrame(\n",
    "    unioned.collect(), columns=['geom'], geometry='geom'\n",
    ")"
   ]
  },
  {
   "cell_type": "code",
   "execution_count": 29,
   "metadata": {},
   "outputs": [
    {
     "data": {
      "image/svg+xml": [
       "<svg xmlns=\"http://www.w3.org/2000/svg\" xmlns:xlink=\"http://www.w3.org/1999/xlink\" width=\"100.0\" height=\"100.0\" viewBox=\"-84.27717868 33.86543632 0.483590360000008 1.0644123599999986\" preserveAspectRatio=\"xMinYMin meet\"><g transform=\"matrix(1,0,0,-1,0,68.795285)\"><path fill-rule=\"evenodd\" fill=\"#66cc99\" stroke=\"#555555\" stroke-width=\"0.02128824719999997\" opacity=\"0.6\" d=\"M -84.237756,33.904859 L -84.237756,34.090426 L -84.237756,34.890426 L -84.033011,34.890426 L -84.033011,34.090426 L -83.833011,34.090426 L -83.833011,33.904859 L -84.033011,33.904859 L -84.237756,33.904859 z\" /></g></svg>"
      ],
      "text/plain": [
       "<shapely.geometry.polygon.Polygon at 0x7f8ce249a390>"
      ]
     },
     "execution_count": 29,
     "metadata": {},
     "output_type": "execute_result"
    }
   ],
   "source": [
    "unioned_gdf.at[0, 'geom']"
   ]
  },
  {
   "cell_type": "code",
   "execution_count": 33,
   "metadata": {},
   "outputs": [
    {
     "data": {
      "text/plain": [
       "0    POLYGON ((-84.23776 33.90486, -84.23776 34.090...\n",
       "Name: geom, dtype: geometry"
      ]
     },
     "execution_count": 33,
     "metadata": {},
     "output_type": "execute_result"
    }
   ],
   "source": [
    "unioned_gdf.geometry"
   ]
  }
 ],
 "metadata": {
  "kernelspec": {
   "display_name": "Python 3",
   "language": "python",
   "name": "python3"
  },
  "language_info": {
   "codemirror_mode": {
    "name": "ipython",
    "version": 3
   },
   "file_extension": ".py",
   "mimetype": "text/x-python",
   "name": "python",
   "nbconvert_exporter": "python",
   "pygments_lexer": "ipython3",
   "version": "3.7.6"
  }
 },
 "nbformat": 4,
 "nbformat_minor": 4
}
